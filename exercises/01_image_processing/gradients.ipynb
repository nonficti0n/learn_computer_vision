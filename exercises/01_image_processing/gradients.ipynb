{
 "cells": [
  {
   "cell_type": "code",
   "execution_count": null,
   "metadata": {},
   "outputs": [],
   "source": [
    "import cv2\n",
    "import matplotlib.pyplot as plt\n",
    "import matplotlib.patches as patches\n",
    "import numpy as np\n",
    "import sys\n",
    "from salt_pepper_m import salt_pepper\n",
    "%matplotlib inline\n",
    "plt.rcParams['figure.figsize'] = [12, 8]"
   ]
  },
  {
   "cell_type": "code",
   "execution_count": null,
   "metadata": {},
   "outputs": [],
   "source": [
    "# Load a color image in grayscale\n",
    "img = cv2.imread('boat.jpg',0).astype(float)/255\n",
    "#img = cv2.imread('boat.jpg',0)"
   ]
  },
  {
   "cell_type": "code",
   "execution_count": null,
   "metadata": {},
   "outputs": [],
   "source": [
    "# Output dtype = cv.CV_8U\n",
    "sobelx8u = cv2.Sobel(img,cv2.CV_8U,1,0,ksize=5)\n",
    "# Output dtype = cv.CV_64F. Then take its absolute and convert to cv.CV_8U\n",
    "sobelx64f = cv2.Sobel(img,cv2.CV_64F,1,0,ksize=5)\n",
    "abs_sobel64f = np.absolute(sobelx64f)\n",
    "sobel_8u = np.uint8(abs_sobel64f)\n",
    "plt.subplot(1,3,1),plt.imshow(img,cmap = 'gray')\n",
    "plt.title('Original'), plt.xticks([]), plt.yticks([])\n",
    "plt.subplot(1,3,2),plt.imshow(sobelx8u,cmap = 'gray')\n",
    "plt.title('Sobel CV_8U'), plt.xticks([]), plt.yticks([])\n",
    "plt.subplot(1,3,3),plt.imshow(sobel_8u,cmap = 'gray')\n",
    "plt.title('Sobel abs(CV_64F)'), plt.xticks([]), plt.yticks([])\n",
    "plt.show()\n",
    "\n",
    "plt.imshow(sobel_8u,cmap = 'gray')\n",
    "plt.title('Sobel abs(CV_64F)'), plt.xticks([]), plt.yticks([])\n",
    "plt.show()"
   ]
  },
  {
   "cell_type": "code",
   "execution_count": null,
   "metadata": {},
   "outputs": [],
   "source": [
    "# Laplacian\n",
    "laplacianx64f = cv2.Laplacian(img,cv2.CV_64F)\n",
    "abs_laplacian64f = np.absolute(laplacianx64f)\n",
    "laplacian_8u = np.uint8(abs_laplacian64f)\n",
    "\n",
    "print(np.max(abs_laplacian64f))\n",
    "\n",
    "plt.imshow(abs_laplacian64f,cmap = 'gray')\n",
    "plt.title('Laplacian abs(CV_64F)'), plt.xticks([]), plt.yticks([])\n",
    "plt.show()"
   ]
  },
  {
   "cell_type": "code",
   "execution_count": null,
   "metadata": {},
   "outputs": [],
   "source": [
    "#Proper way as explained in videos\n",
    "sobelx = cv2.Sobel(img,cv2.CV_64F,1,0,ksize=3)\n",
    "sobely = cv2.Sobel(img,cv2.CV_64F,0,1,ksize=3)\n",
    "\n",
    "sobelxy = np.sqrt(np.power(sobelx,2)+np.power(sobely,2))/(4*np.sqrt(2))\n",
    "\n",
    "\n",
    "\n",
    "print(np.min(sobelxy))\n",
    "print(np.max(sobelxy))\n",
    "\n",
    "plt.imshow(sobelx,cmap = 'gray')\n",
    "plt.title('Sobel X'), plt.xticks([]), plt.yticks([])\n",
    "plt.show()\n",
    "\n",
    "plt.imshow(sobely,cmap = 'gray')\n",
    "plt.title('Sobel Y'), plt.xticks([]), plt.yticks([])\n",
    "plt.show()\n",
    "\n",
    "plt.imshow(sobelxy,cmap = 'gray')\n",
    "plt.title('Sobel XY'), plt.xticks([]), plt.yticks([])\n",
    "plt.show()"
   ]
  },
  {
   "cell_type": "code",
   "execution_count": null,
   "metadata": {},
   "outputs": [],
   "source": [
    "#With gaussian blur as well\n",
    "img_blur=cv2.GaussianBlur(img,(31,31),3)\n",
    "sobelx = cv2.Sobel(img_blur,cv2.CV_64F,1,0,ksize=3)\n",
    "sobely = cv2.Sobel(img_blur,cv2.CV_64F,0,1,ksize=3)\n",
    "\n",
    "sobelxy = np.sqrt(np.power(sobelx,2)+np.power(sobely,2))/(4*np.sqrt(2))\n",
    "\n",
    "\n",
    "\n",
    "print(np.min(sobelxy))\n",
    "print(np.max(sobelxy))\n",
    "\n",
    "plt.imshow(sobelx,cmap = 'gray')\n",
    "plt.title('Sobel X'), plt.xticks([]), plt.yticks([])\n",
    "plt.show()\n",
    "\n",
    "plt.imshow(sobely,cmap = 'gray')\n",
    "plt.title('Sobel Y'), plt.xticks([]), plt.yticks([])\n",
    "plt.show()\n",
    "\n",
    "plt.imshow(sobelxy,cmap = 'gray')\n",
    "plt.title('Sobel XY'), plt.xticks([]), plt.yticks([])\n",
    "plt.show()"
   ]
  },
  {
   "cell_type": "code",
   "execution_count": null,
   "metadata": {},
   "outputs": [],
   "source": [
    "#Thresholding\n",
    "print(np.max(sobelxy))\n",
    "print(np.min(sobelxy))\n",
    "\n",
    "thresholded=sobelxy/np.max(sobelxy)\n",
    "thresh=0.3\n",
    "\n",
    "#thresholded[thresholded>=thresh]=1\n",
    "thresholded[thresholded<thresh]=0\n",
    "\n",
    "plt.imshow(thresholded,cmap = 'gray')\n",
    "plt.title('Thresholded image'), plt.xticks([]), plt.yticks([])\n",
    "plt.show()"
   ]
  },
  {
   "cell_type": "code",
   "execution_count": null,
   "metadata": {},
   "outputs": [],
   "source": [
    "#Canny edge detector\n",
    "img_8U=(img*255).astype(np.uint8)\n",
    "edges=cv2.Canny(img_8U,230,250)\n",
    "\n",
    "plt.imshow(edges,cmap = 'gray')\n",
    "plt.title('Canny edges image'), plt.xticks([]), plt.yticks([])\n",
    "plt.show()"
   ]
  }
 ],
 "metadata": {
  "interpreter": {
   "hash": "ec438014e399dc46eaeace7783b726116db23117c3214c5efea529313905d169"
  },
  "kernelspec": {
   "display_name": "Python 3.10.1 ('env': venv)",
   "language": "python",
   "name": "python3"
  },
  "language_info": {
   "codemirror_mode": {
    "name": "ipython",
    "version": 3
   },
   "file_extension": ".py",
   "mimetype": "text/x-python",
   "name": "python",
   "nbconvert_exporter": "python",
   "pygments_lexer": "ipython3",
   "version": "3.10.1"
  },
  "orig_nbformat": 4
 },
 "nbformat": 4,
 "nbformat_minor": 2
}
